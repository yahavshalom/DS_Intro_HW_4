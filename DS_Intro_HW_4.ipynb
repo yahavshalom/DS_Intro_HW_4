{
 "cells": [
  {
   "cell_type": "code",
   "execution_count": 1,
   "id": "732cf534",
   "metadata": {},
   "outputs": [],
   "source": [
    "import json\n",
    "import requests"
   ]
  },
  {
   "cell_type": "code",
   "execution_count": 2,
   "id": "8ae8d1a5",
   "metadata": {},
   "outputs": [],
   "source": [
    " file = open('C:\\\\Users\\\\yahav\\\\.spyder-py3\\\\dests.txt')  ## read the file"
   ]
  },
  {
   "cell_type": "code",
   "execution_count": 3,
   "id": "c89c624d",
   "metadata": {},
   "outputs": [],
   "source": [
    "address = list()"
   ]
  },
  {
   "cell_type": "code",
   "execution_count": 4,
   "id": "2110c7ee",
   "metadata": {},
   "outputs": [],
   "source": [
    "for line in file:\n",
    "    line = line.strip()\n",
    "    address.append(line.strip()) ##address =$list$ ['Istanbul', 'Amsterdam', 'Valletta', 'Basel', 'Doha']"
   ]
  },
  {
   "cell_type": "markdown",
   "id": "a9710b05",
   "metadata": {},
   "source": [
    "### Googleapis distancematrix "
   ]
  },
  {
   "cell_type": "code",
   "execution_count": 5,
   "id": "ca0063d5",
   "metadata": {},
   "outputs": [],
   "source": [
    "api_key = 'Please put your API key' ##My API key     "
   ]
  },
  {
   "cell_type": "code",
   "execution_count": 6,
   "id": "57b0aa7a",
   "metadata": {},
   "outputs": [],
   "source": [
    "def call_matrix_api(destinations):\n",
    "    url_d = \"https://maps.googleapis.com/maps/api/distancematrix/json?origins=Jerusalem, Israel&destinations=%s&key=%s\" % (destinations,api_key)\n",
    "    try:\n",
    "        response_dist = requests.get(url_d)\n",
    "        if not response_dist.status_code == 200:\n",
    "            print(\"HTTP error\",response_dist.status_code)\n",
    "        else:\n",
    "            try:\n",
    "                response_dist = requests.get(url_d).json()\n",
    "                dist = response_dist['rows'][0]['elements'][0]['distance']['text']\n",
    "                time = response_dist['rows'][0]['elements'][0]['duration']['text'] \n",
    "                return dist, time\n",
    "            except:\n",
    "                print(\"Response not in valid JSON format\")\n",
    "    except:\n",
    "        print(\"Something went wrong with requests.get\")"
   ]
  },
  {
   "cell_type": "code",
   "execution_count": 7,
   "id": "cf8daf84",
   "metadata": {},
   "outputs": [
    {
     "name": "stdout",
     "output_type": "stream",
     "text": [
      "Istanbul \n",
      "distance from Jerusalem: 1,809 km \n",
      "time in minutes: 74317 minutes\n",
      "\n",
      "Amsterdam \n",
      "distance from Jerusalem: 4,528 km \n",
      "time in minutes: 170994 minutes\n",
      "\n",
      "Valletta \n",
      "distance from Jerusalem: 3,783 km \n",
      "time in minutes: 181762 minutes\n",
      "\n",
      "Basel \n",
      "distance from Jerusalem: 4,091 km \n",
      "time in minutes: 157133 minutes\n",
      "\n",
      "Doha \n",
      "distance from Jerusalem: 2,105 km \n",
      "time in minutes: 79103 minutes\n",
      "\n"
     ]
    }
   ],
   "source": [
    "## if I need to answer QA A (distance and time in minutes) the answer will be:\n",
    "val = dict()\n",
    "\n",
    "def call_matrix_api2(destinations):\n",
    "    url_a = \"https://maps.googleapis.com/maps/api/distancematrix/json?origins=Jerusalem, Israel&destinations=%s&key=%s\" % (destinations,api_key)\n",
    "    try:\n",
    "        response_dist2 = requests.get(url_a)\n",
    "        if not response_dist2.status_code == 200:\n",
    "            print(\"HTTP error\",response_dist2.status_code)\n",
    "        else:\n",
    "            try:\n",
    "                response_a = requests.get(url_a).json()\n",
    "                dist_a = response_a['rows'][0]['elements'][0]['distance']['text']\n",
    "                time_a = response_a['rows'][0]['elements'][0]['duration']['value'] ## the difrrence from above is the 'value' instead of 'text'  \n",
    "                return dist_a,time_a\n",
    "            except:\n",
    "                print(\"Response not in valid JSON format\")\n",
    "    except:\n",
    "        print(\"Something went wrong with requests.get\")\n",
    "\n",
    "for a in address:\n",
    "    val[a] = call_matrix_api2(a)\n",
    "    print(a,\n",
    "        \"\\ndistance from Jerusalem:\", val[a][0],\n",
    "        \"\\ntime in minutes:\", val[a][1],\"minutes\\n\")"
   ]
  },
  {
   "cell_type": "markdown",
   "id": "f0fe68e9",
   "metadata": {},
   "source": [
    "### Google geocode"
   ]
  },
  {
   "cell_type": "code",
   "execution_count": 8,
   "id": "18634d90",
   "metadata": {},
   "outputs": [],
   "source": [
    "def get_lat_lng(address):\n",
    "    url_g=\"https://maps.googleapis.com/maps/api/geocode/json?address=%s&key=%s\" % (address,api_key)\n",
    "    try:\n",
    "        response = requests.get(url_g)\n",
    "        if not response.status_code == 200:\n",
    "            print(\"HTTP error\",response.status_code)\n",
    "        else:\n",
    "            try:\n",
    "                response_data = response.json()\n",
    "                lng_response = response_data['results'][0]['geometry']['location']['lng']\n",
    "                lat_response = response_data['results'][0]['geometry']['location']['lat']\n",
    "                return str(lng_response) ,str(lat_response)\n",
    "            except:\n",
    "                print(\"Response not in valid JSON format\")\n",
    "    except:\n",
    "        print(\"Something went wrong with requests.get\")"
   ]
  },
  {
   "cell_type": "code",
   "execution_count": 9,
   "id": "1e5ab459",
   "metadata": {},
   "outputs": [
    {
     "name": "stdout",
     "output_type": "stream",
     "text": [
      "Istanbul ('28.9783589', '41.0082376')\n",
      "Amsterdam ('4.9041389', '52.3675734')\n",
      "Valletta ('14.5145528', '35.8989085')\n",
      "Basel ('7.5885761', '47.5595986')\n",
      "Doha ('51.53103979999999', '25.2854473')\n"
     ]
    }
   ],
   "source": [
    "for i in address:\n",
    "    val = get_lat_lng(i) ## the lng and the lat for each distnation using the get_lat_lng function\n",
    "    print(i, val)"
   ]
  },
  {
   "cell_type": "code",
   "execution_count": 10,
   "id": "13140db2",
   "metadata": {},
   "outputs": [],
   "source": [
    "## The full answer - it wasnt clear if the time should be in min or hour+min so I did both\n",
    "\n",
    "api_response = dict()\n",
    "for d in address:\n",
    "    api_response[d] = call_matrix_api(d) + get_lat_lng(d)  ##calling to call_matrix_api function          \n",
    "    \n",
    "    ##put all the answer in dict() with keys and values\n",
    "    \n",
    "## print(api_response.keys(), api_response.values()) => check if the keys and the values are currect"
   ]
  },
  {
   "cell_type": "code",
   "execution_count": 11,
   "id": "f4c50df9",
   "metadata": {},
   "outputs": [
    {
     "name": "stdout",
     "output_type": "stream",
     "text": [
      "Istanbul \n",
      "Distance: 1,809 km \n",
      "Arrival time from Jerusalem: 20 hours 39 mins \n",
      "Longitude: 28.9783589 \n",
      "Latitude: 41.0082376 \n",
      "\n",
      "Amsterdam \n",
      "Distance: 4,528 km \n",
      "Arrival time from Jerusalem: 1 day 23 hours \n",
      "Longitude: 4.9041389 \n",
      "Latitude: 52.3675734 \n",
      "\n",
      "Valletta \n",
      "Distance: 3,783 km \n",
      "Arrival time from Jerusalem: 2 days 2 hours \n",
      "Longitude: 14.5145528 \n",
      "Latitude: 35.8989085 \n",
      "\n",
      "Basel \n",
      "Distance: 4,091 km \n",
      "Arrival time from Jerusalem: 1 day 20 hours \n",
      "Longitude: 7.5885761 \n",
      "Latitude: 47.5595986 \n",
      "\n",
      "Doha \n",
      "Distance: 2,105 km \n",
      "Arrival time from Jerusalem: 21 hours 58 mins \n",
      "Longitude: 51.53103979999999 \n",
      "Latitude: 25.2854473 \n",
      "\n"
     ]
    }
   ],
   "source": [
    "## the answer itself\n",
    "\n",
    "for i in api_response:\n",
    "    print(i,\n",
    "          '\\nDistance:',api_response[i][0],\n",
    "          '\\nArrival time from Jerusalem:',api_response[i][1],\n",
    "          '\\nLongitude:', api_response[i][2],\n",
    "          '\\nLatitude:',api_response[i][3], '\\n')\n",
    "    \n"
   ]
  },
  {
   "cell_type": "code",
   "execution_count": 12,
   "id": "7c97bfe5",
   "metadata": {},
   "outputs": [
    {
     "name": "stdout",
     "output_type": "stream",
     "text": [
      "Amsterdam ranking as number 1 by the distance from Jerusalem \n",
      "\n",
      "Basel ranking as number 2 by the distance from Jerusalem \n",
      "\n",
      "Valletta ranking as number 3 by the distance from Jerusalem \n",
      "\n"
     ]
    }
   ],
   "source": [
    "furthest_dist = list()\n",
    "for i in api_response.values():\n",
    "    furthest_dist.append(i)\n",
    "furthest_dist.sort(reverse=True) ## Amsterdam = 4,528 km,Basel = 4,091 km,Valletta = 3,783 km\n",
    "for furthest in range(0,len(furthest_dist)):\n",
    "    if furthest < 3:\n",
    "        for key in api_response:\n",
    "            if api_response[key]==furthest_dist[furthest]:\n",
    "                print(key.strip(),\"ranking as number\",furthest+1,\"by the distance from Jerusalem \\n\")"
   ]
  }
 ],
 "metadata": {
  "kernelspec": {
   "display_name": "Python 3 (ipykernel)",
   "language": "python",
   "name": "python3"
  },
  "language_info": {
   "codemirror_mode": {
    "name": "ipython",
    "version": 3
   },
   "file_extension": ".py",
   "mimetype": "text/x-python",
   "name": "python",
   "nbconvert_exporter": "python",
   "pygments_lexer": "ipython3",
   "version": "3.9.7"
  }
 },
 "nbformat": 4,
 "nbformat_minor": 5
}
